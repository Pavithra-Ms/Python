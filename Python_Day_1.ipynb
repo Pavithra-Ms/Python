{
  "nbformat": 4,
  "nbformat_minor": 0,
  "metadata": {
    "colab": {
      "name": "Python Day_1",
      "provenance": [],
      "toc_visible": true,
      "authorship_tag": "ABX9TyOCINi2lN8+QzyYxlSUmIBf",
      "include_colab_link": true
    },
    "kernelspec": {
      "name": "python3",
      "display_name": "Python 3"
    },
    "language_info": {
      "name": "python"
    }
  },
  "cells": [
    {
      "cell_type": "markdown",
      "metadata": {
        "id": "view-in-github",
        "colab_type": "text"
      },
      "source": [
        "<a href=\"https://colab.research.google.com/github/Pavithra-Ms/Python/blob/master/Python_Day_1.ipynb\" target=\"_parent\"><img src=\"https://colab.research.google.com/assets/colab-badge.svg\" alt=\"Open In Colab\"/></a>"
      ]
    },
    {
      "cell_type": "markdown",
      "metadata": {
        "id": "WEkXgfNQQwyQ"
      },
      "source": [
        "###Introduction\n"
      ]
    },
    {
      "cell_type": "code",
      "metadata": {
        "colab": {
          "base_uri": "https://localhost:8080/"
        },
        "id": "bp09uclBRUVB",
        "outputId": "edfae083-3bdb-4f9a-9bbb-cdeb502e1edf"
      },
      "source": [
        "#Hello world\n",
        "print(\"Hello world\")"
      ],
      "execution_count": null,
      "outputs": [
        {
          "output_type": "stream",
          "name": "stdout",
          "text": [
            "Hello world\n"
          ]
        }
      ]
    },
    {
      "cell_type": "markdown",
      "metadata": {
        "id": "qbbpxro_Ru9w"
      },
      "source": [
        "###Data type"
      ]
    },
    {
      "cell_type": "code",
      "metadata": {
        "id": "uug3eSvqRap4"
      },
      "source": [
        "#int\n",
        "#String\n",
        "#bool\n",
        "#Float"
      ],
      "execution_count": null,
      "outputs": []
    },
    {
      "cell_type": "markdown",
      "metadata": {
        "id": "JLncSoO9MeM3"
      },
      "source": [
        "###Type Checking\n",
        "\n"
      ]
    },
    {
      "cell_type": "code",
      "metadata": {
        "colab": {
          "base_uri": "https://localhost:8080/"
        },
        "id": "46KgjtYWMXAO",
        "outputId": "0024871e-8cee-42f6-fa74-f20d30d30caf"
      },
      "source": [
        "###Check Type\n",
        "name=\"pavithra\"\n",
        "print(type(name))"
      ],
      "execution_count": null,
      "outputs": [
        {
          "output_type": "stream",
          "name": "stdout",
          "text": [
            "<class 'str'>\n"
          ]
        }
      ]
    },
    {
      "cell_type": "code",
      "metadata": {
        "colab": {
          "base_uri": "https://localhost:8080/"
        },
        "id": "pFsoOabTMxrn",
        "outputId": "ec495835-e750-4bbc-a95a-0b705db3026b"
      },
      "source": [
        "n=12\n",
        "print(type(a))"
      ],
      "execution_count": null,
      "outputs": [
        {
          "output_type": "stream",
          "name": "stdout",
          "text": [
            "<class 'int'>\n"
          ]
        }
      ]
    },
    {
      "cell_type": "code",
      "metadata": {
        "colab": {
          "base_uri": "https://localhost:8080/"
        },
        "id": "dQ6LQZswM_SX",
        "outputId": "c682f2d9-9c0d-49c8-980e-3c9a275847a0"
      },
      "source": [
        "n=1.3\n",
        "print(type(n))"
      ],
      "execution_count": null,
      "outputs": [
        {
          "output_type": "stream",
          "name": "stdout",
          "text": [
            "<class 'float'>\n"
          ]
        }
      ]
    },
    {
      "cell_type": "code",
      "metadata": {
        "colab": {
          "base_uri": "https://localhost:8080/"
        },
        "id": "OGz1rvb-NEIR",
        "outputId": "cf48bcc1-28fe-407f-ab4a-bfe304f62642"
      },
      "source": [
        "n=1+10j\n",
        "print(type(n))"
      ],
      "execution_count": null,
      "outputs": [
        {
          "output_type": "stream",
          "name": "stdout",
          "text": [
            "<class 'complex'>\n"
          ]
        }
      ]
    },
    {
      "cell_type": "code",
      "metadata": {
        "colab": {
          "base_uri": "https://localhost:8080/"
        },
        "id": "xPstpJ1LNJ-2",
        "outputId": "09537c45-708c-41d5-dd88-e946bf0fc78f"
      },
      "source": [
        "n=[]\n",
        "print(type(n))"
      ],
      "execution_count": null,
      "outputs": [
        {
          "output_type": "stream",
          "name": "stdout",
          "text": [
            "<class 'list'>\n"
          ]
        }
      ]
    },
    {
      "cell_type": "code",
      "metadata": {
        "colab": {
          "base_uri": "https://localhost:8080/"
        },
        "id": "eQrjQe_FNPmy",
        "outputId": "696a9680-1d79-43c8-998a-a6d2bbc7ddbb"
      },
      "source": [
        "a={\"n\":1}\n",
        "print(type(a))"
      ],
      "execution_count": null,
      "outputs": [
        {
          "output_type": "stream",
          "name": "stdout",
          "text": [
            "<class 'dict'>\n"
          ]
        }
      ]
    },
    {
      "cell_type": "code",
      "metadata": {
        "colab": {
          "base_uri": "https://localhost:8080/"
        },
        "id": "cBtxR60wNbo6",
        "outputId": "cd039c66-4918-47ef-a382-e8ce57af9226"
      },
      "source": [
        "a=(1,2,2)\n",
        "print(type(a))"
      ],
      "execution_count": null,
      "outputs": [
        {
          "output_type": "stream",
          "name": "stdout",
          "text": [
            "<class 'tuple'>\n"
          ]
        }
      ]
    },
    {
      "cell_type": "code",
      "metadata": {
        "colab": {
          "base_uri": "https://localhost:8080/"
        },
        "id": "t2Y73upuNjzh",
        "outputId": "2b7e6d95-018f-474b-c6b0-8596014b1303"
      },
      "source": [
        "a={1,2,3,3}\n",
        "print(type(a))"
      ],
      "execution_count": null,
      "outputs": [
        {
          "output_type": "stream",
          "name": "stdout",
          "text": [
            "<class 'set'>\n"
          ]
        }
      ]
    },
    {
      "cell_type": "code",
      "metadata": {
        "colab": {
          "base_uri": "https://localhost:8080/"
        },
        "id": "Y-Hw4PmPLSKd",
        "outputId": "96654788-200d-49a8-ff29-fc1e7a5b4343"
      },
      "source": [
        "#convert string to int\n",
        "a=\"13\"\n",
        "print(type(a))\n",
        "a=int(a)\n",
        "print(type(a))"
      ],
      "execution_count": null,
      "outputs": [
        {
          "output_type": "stream",
          "name": "stdout",
          "text": [
            "<class 'str'>\n",
            "<class 'int'>\n"
          ]
        }
      ]
    },
    {
      "cell_type": "code",
      "metadata": {
        "colab": {
          "base_uri": "https://localhost:8080/"
        },
        "id": "88e_ztqgOaKG",
        "outputId": "ff6bc7a0-3a28-46d7-81c9-ff70d9097948"
      },
      "source": [
        "#Exercise\n",
        "men_stepped_on_the_moon=12\n",
        "answer_1=type(men_stepped_on_the_moon)\n",
        "print(answer_1)"
      ],
      "execution_count": null,
      "outputs": [
        {
          "output_type": "stream",
          "name": "stdout",
          "text": [
            "<class 'int'>\n"
          ]
        }
      ]
    },
    {
      "cell_type": "code",
      "metadata": {
        "colab": {
          "base_uri": "https://localhost:8080/"
        },
        "id": "zxBR8I4xOa0U",
        "outputId": "6cdc1af4-92f3-4a3e-f711-623b9038a9ea"
      },
      "source": [
        "my_reason_for_coding=\"Intergalatic\"\n",
        "answer=type(my_reason_for_coding)\n",
        "print(answer)"
      ],
      "execution_count": null,
      "outputs": [
        {
          "output_type": "stream",
          "name": "stdout",
          "text": [
            "<class 'str'>\n"
          ]
        }
      ]
    },
    {
      "cell_type": "code",
      "metadata": {
        "colab": {
          "base_uri": "https://localhost:8080/"
        },
        "id": "m5tnHAaJObHX",
        "outputId": "9611dd40-59d7-4096-fb05-064efe5b7fba"
      },
      "source": [
        "sea_level=21.36\n",
        "ans=type(sea_level)\n",
        "print(ans)"
      ],
      "execution_count": null,
      "outputs": [
        {
          "output_type": "stream",
          "name": "stdout",
          "text": [
            "<class 'float'>\n"
          ]
        }
      ]
    },
    {
      "cell_type": "code",
      "metadata": {
        "colab": {
          "base_uri": "https://localhost:8080/"
        },
        "id": "9HtSof1pObTm",
        "outputId": "ece91dd6-5a6b-4ccc-bc8f-db79b934f335"
      },
      "source": [
        "staying_alive=True\n",
        "print(type(staying_alive))"
      ],
      "execution_count": null,
      "outputs": [
        {
          "output_type": "stream",
          "name": "stdout",
          "text": [
            "<class 'bool'>\n"
          ]
        }
      ]
    },
    {
      "cell_type": "code",
      "metadata": {
        "colab": {
          "base_uri": "https://localhost:8080/"
        },
        "id": "P3J5wPNLPiaR",
        "outputId": "cdbe4dc7-3970-4079-f448-3980968e89c1"
      },
      "source": [
        "#Addition of String and integer using explicit Conversion\n",
        "num_int=123\n",
        "num_str=\"214\"\n",
        "\n",
        "num_str=int(num_str)\n",
        "print(num_int+num_str)"
      ],
      "execution_count": null,
      "outputs": [
        {
          "output_type": "stream",
          "name": "stdout",
          "text": [
            "337\n"
          ]
        }
      ]
    },
    {
      "cell_type": "markdown",
      "metadata": {
        "id": "wdxDfshASMkr"
      },
      "source": [
        "###Assigments\n"
      ]
    },
    {
      "cell_type": "code",
      "metadata": {
        "colab": {
          "base_uri": "https://localhost:8080/"
        },
        "id": "tQLzotMNSSOy",
        "outputId": "c91d8d1f-4939-431d-9596-be8f91d4a7fe"
      },
      "source": [
        "#Find the Square root of 67\n",
        "num=int(input(\"Enter the number:\"))\n",
        "res=num**0.5\n",
        "print(res)\n"
      ],
      "execution_count": null,
      "outputs": [
        {
          "output_type": "stream",
          "name": "stdout",
          "text": [
            "Enter the number:67\n",
            "8.18535277187245\n"
          ]
        }
      ]
    },
    {
      "cell_type": "code",
      "metadata": {
        "colab": {
          "base_uri": "https://localhost:8080/"
        },
        "id": "02HLKY6sSssJ",
        "outputId": "d1d3de94-4947-4199-998d-df1becc5ac26"
      },
      "source": [
        "#Swap the two numbers\n",
        "a=int(input())\n",
        "b=int(input())\n",
        "print(\"Before the swap\")\n",
        "print(a)\n",
        "print(b)\n",
        "print(\"After the swap\")\n",
        "a,b=b,a\n",
        "print(a)\n",
        "print(b)"
      ],
      "execution_count": null,
      "outputs": [
        {
          "output_type": "stream",
          "name": "stdout",
          "text": [
            "10\n",
            "20\n",
            "Before the swap\n",
            "10\n",
            "20\n",
            "After the swap\n",
            "20\n",
            "10\n"
          ]
        }
      ]
    },
    {
      "cell_type": "code",
      "metadata": {
        "colab": {
          "base_uri": "https://localhost:8080/"
        },
        "id": "ul_GXmmSSsXt",
        "outputId": "df61a779-bb9e-45f0-ad53-a2e5662cf192"
      },
      "source": [
        "#swap the number\n",
        "a=int(input())\n",
        "b=int(input())\n",
        "a=a+b\n",
        "b=a-b\n",
        "a=a-b\n",
        "print(a)\n",
        "print(b)"
      ],
      "execution_count": null,
      "outputs": [
        {
          "output_type": "stream",
          "name": "stdout",
          "text": [
            "20\n",
            "30\n",
            "30\n",
            "20\n"
          ]
        }
      ]
    },
    {
      "cell_type": "code",
      "metadata": {
        "colab": {
          "base_uri": "https://localhost:8080/"
        },
        "id": "w7Us3x6tSsEB",
        "outputId": "259911f7-c772-46ca-f848-924698411334"
      },
      "source": [
        "#Calculate the Area of Triangle\n",
        "#Formula s=a+b+c/2\n",
        "#Area=(s(s-a)*(s-b)*(s-c))**0.2\n",
        "a=int(input(\"Enter A Value:\"))\n",
        "b=int(input(\"Enter B Value:\"))\n",
        "c=int(input(\"Enter C Value:\"))\n",
        "#Find S\n",
        "s=a+b+c/2\n",
        "Area=(s*(s-a)*(s-b)*(s-c))**0.2\n",
        "print(\"Area of Triangle\",(Area))"
      ],
      "execution_count": null,
      "outputs": [
        {
          "output_type": "stream",
          "name": "stdout",
          "text": [
            "Enter A Value:2\n",
            "Enter B Value:3\n",
            "Enter C Value:4\n",
            "Area of Triangle 3.3469548828320934\n"
          ]
        }
      ]
    },
    {
      "cell_type": "code",
      "metadata": {
        "colab": {
          "base_uri": "https://localhost:8080/"
        },
        "id": "T-8A02QnWVUS",
        "outputId": "e60b44f1-0ff3-40e0-c5d0-226d69010fbe"
      },
      "source": [
        "#Convert KM to Miles\n",
        "a=int(input(\"Enter the Kilometer:\"))\n",
        "miles=a*0.62\n",
        "print(\"Miles=\",miles)"
      ],
      "execution_count": null,
      "outputs": [
        {
          "output_type": "stream",
          "name": "stdout",
          "text": [
            "Enter the Kilometer:98\n",
            "Miles= 60.76\n"
          ]
        }
      ]
    }
  ]
}