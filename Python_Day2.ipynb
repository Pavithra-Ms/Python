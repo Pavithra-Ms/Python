{
  "nbformat": 4,
  "nbformat_minor": 0,
  "metadata": {
    "colab": {
      "name": "Python_Day2",
      "provenance": [],
      "toc_visible": true,
      "authorship_tag": "ABX9TyMPeXykoMEx4bYAu03O8rF7",
      "include_colab_link": true
    },
    "kernelspec": {
      "name": "python3",
      "display_name": "Python 3"
    },
    "language_info": {
      "name": "python"
    }
  },
  "cells": [
    {
      "cell_type": "markdown",
      "metadata": {
        "id": "view-in-github",
        "colab_type": "text"
      },
      "source": [
        "<a href=\"https://colab.research.google.com/github/Pavithra-Ms/Python/blob/master/Python_Day2.ipynb\" target=\"_parent\"><img src=\"https://colab.research.google.com/assets/colab-badge.svg\" alt=\"Open In Colab\"/></a>"
      ]
    },
    {
      "cell_type": "markdown",
      "metadata": {
        "id": "BidRTCpOFmxd"
      },
      "source": [
        "#Python Data structure\n",
        "\n",
        "Storing,Organising,Collection,Managing Data\n",
        "\n",
        "\n",
        "\n",
        "> Data structure are\n",
        "\n",
        "\n",
        "\n",
        "1.   List\n",
        "2.   Tuple\n",
        "3.   Set\n",
        "4.   Dictionary\n",
        "\n",
        "\n",
        "\n",
        "\n",
        "\n",
        "\n"
      ]
    },
    {
      "cell_type": "markdown",
      "metadata": {
        "id": "WFVhs9isJEOJ"
      },
      "source": [
        "# Format\n",
        "1. List  []\n",
        "2. Tuple ()\n",
        "3. Dict {} with Key value Pair\n",
        "4. Set {}"
      ]
    },
    {
      "cell_type": "markdown",
      "metadata": {
        "id": "jiR3iRTrGoRP"
      },
      "source": [
        "#List\n",
        "\n",
        "1.   Python Data Structure\n",
        "2.   Crud Opearation -Changeable\n",
        "     1. Create\n",
        "     2. Read\n",
        "     3. Update\n",
        "        1. Insert\n",
        "        2. append\n",
        "        3. extent\n",
        "     4. Delete\n",
        "        1. remove\n",
        "        2. pop\n",
        "        3. remove\n",
        "3.   Mutable\n",
        "4.   Allow Duplicate Values\n",
        "\n"
      ]
    },
    {
      "cell_type": "code",
      "metadata": {
        "colab": {
          "base_uri": "https://localhost:8080/"
        },
        "id": "TVUySvBwJAEN",
        "outputId": "a0c1618b-c2ee-49cc-94a1-21dae17fad58"
      },
      "source": [
        "lis=[\"Onion\",\"carrot\",\"Beans\",\"Cauliflower\"]\n",
        "type(lis)"
      ],
      "execution_count": 1,
      "outputs": [
        {
          "output_type": "execute_result",
          "data": {
            "text/plain": [
              "list"
            ]
          },
          "metadata": {},
          "execution_count": 1
        }
      ]
    },
    {
      "cell_type": "code",
      "metadata": {
        "colab": {
          "base_uri": "https://localhost:8080/"
        },
        "id": "Axe0VMObFUkn",
        "outputId": "b1fe4175-899f-40ab-d0a3-5449d9ff0462"
      },
      "source": [
        "lis=[\"Onion\",\"carrot\",\"Beans\",\"Cauliflower\"]\n",
        "print(lis)"
      ],
      "execution_count": 2,
      "outputs": [
        {
          "output_type": "stream",
          "name": "stdout",
          "text": [
            "['Onion', 'carrot', 'Beans', 'Cauliflower']\n"
          ]
        }
      ]
    },
    {
      "cell_type": "code",
      "metadata": {
        "colab": {
          "base_uri": "https://localhost:8080/"
        },
        "id": "6zR1lE1RKvkT",
        "outputId": "c7690f76-b602-4476-fd69-9bfd07b3271a"
      },
      "source": [
        "#To access the list elements we using Indexing\n",
        "lis=[\"Onion\",\"carrot\",\"Beans\",\"Cauliflower\"]\n",
        "print(lis[-1])"
      ],
      "execution_count": 3,
      "outputs": [
        {
          "output_type": "stream",
          "name": "stdout",
          "text": [
            "Cauliflower\n"
          ]
        }
      ]
    },
    {
      "cell_type": "code",
      "metadata": {
        "colab": {
          "base_uri": "https://localhost:8080/"
        },
        "id": "rCLX6g6DLA3e",
        "outputId": "f03804e5-3950-4ac0-f0cd-ac10bf9a4963"
      },
      "source": [
        "# add the element in the list\n",
        "#append() -->Add the element into the element at the end\n",
        "#extend()---> Add the element two or more into the one\n",
        "#insert()--->Wherever you want to add element (index,element)\n",
        "lis=[\"Onion\",\"carrot\",\"Beans\",\"Cauliflower\"]\n",
        "lis.insert(1,\"apple\")\n",
        "lis.append(\"Milk\")\n",
        "lis.append(\"Chocolate\")\n",
        "lis.append(\"Biscuit\")\n",
        "lis1=lis+[\"GreenPeas\"]\n",
        "lis.insert(1,\"apple\")\n",
        "print(lis1)"
      ],
      "execution_count": 35,
      "outputs": [
        {
          "output_type": "stream",
          "name": "stdout",
          "text": [
            "['Onion', 'apple', 'carrot', 'Beans', 'Cauliflower', 'Milk', 'Chocolate', 'Biscuit', 'GreenPeas']\n"
          ]
        }
      ]
    },
    {
      "cell_type": "code",
      "metadata": {
        "colab": {
          "base_uri": "https://localhost:8080/"
        },
        "id": "_6rm9DOZURQb",
        "outputId": "67f4e291-78f3-4782-8099-e078eca46b46"
      },
      "source": [
        "#Extend\n",
        "elec=[\"lap\",\"Mobile\",\"ipod\"]\n",
        "game=[\"coc\",\"cod\",\"TempleRun\"]\n",
        "elec.extend(game)\n",
        "print(elec)"
      ],
      "execution_count": 37,
      "outputs": [
        {
          "output_type": "execute_result",
          "data": {
            "text/plain": [
              "['lap', 'Mobile', 'ipod', 'coc', 'cod', 'TempleRun']"
            ]
          },
          "metadata": {},
          "execution_count": 37
        }
      ]
    },
    {
      "cell_type": "code",
      "metadata": {
        "colab": {
          "base_uri": "https://localhost:8080/"
        },
        "id": "jcqjvx4aLT0v",
        "outputId": "30f7dfc7-0847-40ff-a111-e8514eaa560b"
      },
      "source": [
        "#Update the List\n",
        "lis=[\"Onion\",\"carrot\",\"Beans\",\"Cauliflower\"]\n",
        "lis[0]=\"Tomato\"\n",
        "print(lis)"
      ],
      "execution_count": 7,
      "outputs": [
        {
          "output_type": "stream",
          "name": "stdout",
          "text": [
            "['Tomato', 'carrot', 'Beans', 'Cauliflower']\n"
          ]
        }
      ]
    },
    {
      "cell_type": "code",
      "metadata": {
        "colab": {
          "base_uri": "https://localhost:8080/"
        },
        "id": "BP2JHvRJLj8l",
        "outputId": "576b4e90-44bc-467d-c91c-0dec012a116a"
      },
      "source": [
        "print(lis[0])\n",
        "print(lis[-2])"
      ],
      "execution_count": 17,
      "outputs": [
        {
          "output_type": "stream",
          "name": "stdout",
          "text": [
            "Tomato\n",
            "Beans\n"
          ]
        }
      ]
    },
    {
      "cell_type": "code",
      "metadata": {
        "colab": {
          "base_uri": "https://localhost:8080/"
        },
        "id": "AT9djq5CPuPF",
        "outputId": "9859d2d0-87ad-47af-fd77-aac681797667"
      },
      "source": [
        "#Slicing   --->Range of Indexing\n",
        "lis[0:2]\n",
        "#0-->incluse\n",
        "#2-->Excluse"
      ],
      "execution_count": 21,
      "outputs": [
        {
          "output_type": "execute_result",
          "data": {
            "text/plain": [
              "['Tomato', 'carrot']"
            ]
          },
          "metadata": {},
          "execution_count": 21
        }
      ]
    },
    {
      "cell_type": "code",
      "metadata": {
        "colab": {
          "base_uri": "https://localhost:8080/"
        },
        "id": "CfiSbP10QQyz",
        "outputId": "43a8d435-6468-4325-c1c7-c8bf12469461"
      },
      "source": [
        "stri=\"Hello World\"\n",
        "print(stri[0:6])\n"
      ],
      "execution_count": 23,
      "outputs": [
        {
          "output_type": "stream",
          "name": "stdout",
          "text": [
            "Hello \n"
          ]
        }
      ]
    },
    {
      "cell_type": "code",
      "metadata": {
        "colab": {
          "base_uri": "https://localhost:8080/"
        },
        "id": "fiKmhvORQSpA",
        "outputId": "c9eb8feb-36c9-44f1-cb41-3c7c19d72249"
      },
      "source": [
        "stri=\"Hello World\"\n",
        "print(stri[0:10:3])\n",
        "#0-->Starting Position\n",
        "#10--Ending Position\n",
        "#3-->Skip 0r Increment or Decrement"
      ],
      "execution_count": 27,
      "outputs": [
        {
          "output_type": "stream",
          "name": "stdout",
          "text": [
            "HlWl\n"
          ]
        }
      ]
    },
    {
      "cell_type": "code",
      "metadata": {
        "colab": {
          "base_uri": "https://localhost:8080/"
        },
        "id": "iidByUpNQSlL",
        "outputId": "1c291541-d25e-4819-9f97-0f6cf114902e"
      },
      "source": [
        "#Delete the Element from the List\n",
        "#Remove()--Give the name of the element from the list\n",
        "#pop()-->Give the index\n",
        "#del\n",
        "lis=[\"Onion\",\"carrot\",\"Beans\",\"Cauliflower\"]\n",
        "lis.remove(\"Onion\")\n",
        "print(lis)\n"
      ],
      "execution_count": 39,
      "outputs": [
        {
          "output_type": "stream",
          "name": "stdout",
          "text": [
            "['carrot', 'Beans', 'Cauliflower']\n"
          ]
        }
      ]
    },
    {
      "cell_type": "code",
      "metadata": {
        "colab": {
          "base_uri": "https://localhost:8080/"
        },
        "id": "8zIh990sQSh1",
        "outputId": "d599b36b-2358-4dc8-cab4-9fdbc9a4c110"
      },
      "source": [
        "#pop\n",
        "lis.pop(-1)\n",
        "print(lis)\n",
        "#lis.pop()--->Defaultly delete the last element"
      ],
      "execution_count": 40,
      "outputs": [
        {
          "output_type": "stream",
          "name": "stdout",
          "text": [
            "['carrot', 'Beans']\n"
          ]
        }
      ]
    },
    {
      "cell_type": "code",
      "metadata": {
        "colab": {
          "base_uri": "https://localhost:8080/"
        },
        "id": "Tn8-lnReQSeT",
        "outputId": "77266802-5e0c-4fd5-dd43-8f2e0a48bdf6"
      },
      "source": [
        "#del\n",
        "del lis[-1]\n",
        "print(lis)"
      ],
      "execution_count": 49,
      "outputs": [
        {
          "output_type": "stream",
          "name": "stdout",
          "text": [
            "[]\n"
          ]
        }
      ]
    },
    {
      "cell_type": "code",
      "metadata": {
        "id": "1klxaTfZQSah"
      },
      "source": [
        "grades=[98,9,39,38,87,90]"
      ],
      "execution_count": 51,
      "outputs": []
    },
    {
      "cell_type": "code",
      "metadata": {
        "colab": {
          "base_uri": "https://localhost:8080/"
        },
        "id": "dqyO6dmnQSWZ",
        "outputId": "4f53fa74-cb81-4a01-fe18-d87aa7987fc9"
      },
      "source": [
        "len(grades)"
      ],
      "execution_count": 52,
      "outputs": [
        {
          "output_type": "execute_result",
          "data": {
            "text/plain": [
              "6"
            ]
          },
          "metadata": {},
          "execution_count": 52
        }
      ]
    },
    {
      "cell_type": "code",
      "metadata": {
        "colab": {
          "base_uri": "https://localhost:8080/"
        },
        "id": "tD_Yfo7eQSSV",
        "outputId": "e035834c-9796-41d6-a5aa-77e1ef20e513"
      },
      "source": [
        "max(grades)"
      ],
      "execution_count": 53,
      "outputs": [
        {
          "output_type": "execute_result",
          "data": {
            "text/plain": [
              "98"
            ]
          },
          "metadata": {},
          "execution_count": 53
        }
      ]
    },
    {
      "cell_type": "code",
      "metadata": {
        "colab": {
          "base_uri": "https://localhost:8080/"
        },
        "id": "NDh8C0_MQSNN",
        "outputId": "940a1917-df07-4b8c-bc9d-e4767a367d70"
      },
      "source": [
        "min(grades)"
      ],
      "execution_count": 54,
      "outputs": [
        {
          "output_type": "execute_result",
          "data": {
            "text/plain": [
              "9"
            ]
          },
          "metadata": {},
          "execution_count": 54
        }
      ]
    },
    {
      "cell_type": "code",
      "metadata": {
        "colab": {
          "base_uri": "https://localhost:8080/"
        },
        "id": "1L3CZZmFQSHJ",
        "outputId": "eb8ff707-8a66-46e7-b533-2627952385a6"
      },
      "source": [
        "#Sorting\n",
        "print(grades)"
      ],
      "execution_count": 56,
      "outputs": [
        {
          "output_type": "stream",
          "name": "stdout",
          "text": [
            "[98, 9, 39, 38, 87, 90]\n"
          ]
        }
      ]
    },
    {
      "cell_type": "code",
      "metadata": {
        "colab": {
          "base_uri": "https://localhost:8080/"
        },
        "id": "jqaUQkuUQSCB",
        "outputId": "2bbf8c90-7e31-4a6c-d194-53a77b947135"
      },
      "source": [
        "grades.sort()\n",
        "print(grades)#Return value as ascending Order"
      ],
      "execution_count": 58,
      "outputs": [
        {
          "output_type": "stream",
          "name": "stdout",
          "text": [
            "[9, 38, 39, 87, 90, 98]\n"
          ]
        }
      ]
    },
    {
      "cell_type": "code",
      "metadata": {
        "colab": {
          "base_uri": "https://localhost:8080/"
        },
        "id": "2uhI3b00QR9D",
        "outputId": "880a6d89-b252-4f80-b8cc-643fa02c045a"
      },
      "source": [
        "grades.sort(reverse=True)\n",
        "print(grades)"
      ],
      "execution_count": 59,
      "outputs": [
        {
          "output_type": "stream",
          "name": "stdout",
          "text": [
            "[98, 90, 87, 39, 38, 9]\n"
          ]
        }
      ]
    },
    {
      "cell_type": "code",
      "metadata": {
        "colab": {
          "base_uri": "https://localhost:8080/"
        },
        "id": "LIQ_mpClQRzh",
        "outputId": "69901ccd-7aaa-42b9-f160-7889e67178c0"
      },
      "source": [
        "apl=[\"a\",\"b\",\"d\",\"z\"]\n",
        "apl.sort()\n",
        "print(apl)"
      ],
      "execution_count": 60,
      "outputs": [
        {
          "output_type": "stream",
          "name": "stdout",
          "text": [
            "['a', 'b', 'd', 'z']\n"
          ]
        }
      ]
    },
    {
      "cell_type": "code",
      "metadata": {
        "colab": {
          "base_uri": "https://localhost:8080/"
        },
        "id": "qY14hox6QRok",
        "outputId": "9ce8bdce-05a8-4d64-803c-fbd29ca432b3"
      },
      "source": [
        "apl.reverse()\n",
        "print(apl)"
      ],
      "execution_count": 62,
      "outputs": [
        {
          "output_type": "stream",
          "name": "stdout",
          "text": [
            "['a', 'b', 'd', 'z']\n"
          ]
        }
      ]
    },
    {
      "cell_type": "code",
      "metadata": {
        "colab": {
          "base_uri": "https://localhost:8080/"
        },
        "id": "Ljc-fWf1hky5",
        "outputId": "db1c1741-40a2-4215-95be-62b7c05f6bce"
      },
      "source": [
        "grades.reverse()\n",
        "print(grades)"
      ],
      "execution_count": 64,
      "outputs": [
        {
          "output_type": "stream",
          "name": "stdout",
          "text": [
            "[98, 90, 87, 39, 38, 9]\n"
          ]
        }
      ]
    },
    {
      "cell_type": "markdown",
      "metadata": {
        "id": "5LfPF5D1kCkb"
      },
      "source": [
        "#Assignment\n"
      ]
    },
    {
      "cell_type": "code",
      "metadata": {
        "colab": {
          "base_uri": "https://localhost:8080/"
        },
        "id": "DAzjs35Uj_7q",
        "outputId": "d91d3f2f-8c22-46cc-d6f9-55d02e2112d3"
      },
      "source": [
        "#Task1: Take the input form the user and add the value into an empty list the method \n",
        "#append()\n",
        "#extent()\n",
        "#insert()\n",
        "fruits=[]\n",
        "fruits.append(\"Apple\")\n",
        "fruits.insert(0,\"Grapes\")\n",
        "print(fruits)\n",
        "Grocery=[\"Soap\",\"Shampoo\",\"oil\"]\n",
        "fruits.extend(Grocery)\n",
        "print(fruits)"
      ],
      "execution_count": 70,
      "outputs": [
        {
          "output_type": "stream",
          "name": "stdout",
          "text": [
            "['Grapes', 'Apple']\n",
            "['Grapes', 'Apple', 'Soap', 'Shampoo', 'oil']\n"
          ]
        }
      ]
    },
    {
      "cell_type": "code",
      "metadata": {
        "colab": {
          "base_uri": "https://localhost:8080/"
        },
        "id": "SbX4wMN6hxqz",
        "outputId": "0c19f8f5-7aa7-4c09-c331-05a961f03409"
      },
      "source": [
        "#Guess the output\n",
        "name=\"Monty Python\"\n",
        "print(name[::-1])\n",
        "print(name)"
      ],
      "execution_count": 79,
      "outputs": [
        {
          "output_type": "stream",
          "name": "stdout",
          "text": [
            "nohtyP ytnoM\n",
            "Monty Python\n"
          ]
        }
      ]
    },
    {
      "cell_type": "code",
      "metadata": {
        "colab": {
          "base_uri": "https://localhost:8080/"
        },
        "id": "xAZvxV0dhxlj",
        "outputId": "43dd871d-55a6-4535-939d-e01f510136e7"
      },
      "source": [
        "elec=[\"Computer\",\"Phone\",\"iphone\",\"ipad\",\"Microphone\"]\n",
        "elec.remove(\"Computer\")\n",
        "print(elec)"
      ],
      "execution_count": 82,
      "outputs": [
        {
          "output_type": "stream",
          "name": "stdout",
          "text": [
            "['Phone', 'iphone', 'ipad', 'Microphone']\n"
          ]
        }
      ]
    },
    {
      "cell_type": "code",
      "metadata": {
        "colab": {
          "base_uri": "https://localhost:8080/",
          "height": 35
        },
        "id": "Xk6iLNMuhxzM",
        "outputId": "94e10dea-06bf-46c3-ef96-6b818984a532"
      },
      "source": [
        "elec.pop()\n"
      ],
      "execution_count": 83,
      "outputs": [
        {
          "output_type": "execute_result",
          "data": {
            "application/vnd.google.colaboratory.intrinsic+json": {
              "type": "string"
            },
            "text/plain": [
              "'Microphone'"
            ]
          },
          "metadata": {},
          "execution_count": 83
        }
      ]
    },
    {
      "cell_type": "code",
      "metadata": {
        "id": "0RWIRjHphxgn"
      },
      "source": [
        "del elec[-1]"
      ],
      "execution_count": 85,
      "outputs": []
    },
    {
      "cell_type": "code",
      "metadata": {
        "colab": {
          "base_uri": "https://localhost:8080/"
        },
        "id": "rJkiR4Oyhxcg",
        "outputId": "66900960-3f8f-41fd-9973-0ff58fdcb83b"
      },
      "source": [
        "print(elec)"
      ],
      "execution_count": 86,
      "outputs": [
        {
          "output_type": "stream",
          "name": "stdout",
          "text": [
            "['Phone', 'iphone']\n"
          ]
        }
      ]
    },
    {
      "cell_type": "code",
      "metadata": {
        "colab": {
          "base_uri": "https://localhost:8080/"
        },
        "id": "VDvj_b-FhxY2",
        "outputId": "6bd131e3-36f5-4559-fb97-cd22d8f7e205"
      },
      "source": [
        "#list [1,2,3,5,56,6] perform Crud Operation\n",
        "num=[1,2,3,5,56,6]#--->Create\n",
        "print(num)        #--->Read\n",
        "num.insert(2,10)\n",
        "num[-1]=100\n",
        "print(num)        #----> Update\n",
        "del num[-1]\n",
        "print(num)        #----> Delete\n"
      ],
      "execution_count": 92,
      "outputs": [
        {
          "output_type": "stream",
          "name": "stdout",
          "text": [
            "[1, 2, 3, 5, 56, 6]\n",
            "[1, 2, 10, 3, 5, 56, 100]\n",
            "[1, 2, 10, 3, 5, 56]\n"
          ]
        }
      ]
    },
    {
      "cell_type": "code",
      "metadata": {
        "colab": {
          "base_uri": "https://localhost:8080/"
        },
        "id": "8Uekbh3ohxUk",
        "outputId": "df0aecb2-2767-443d-c140-136cbb24a05c"
      },
      "source": [
        "#perform Sort Operation\n",
        "sort_element=[20,30,9,39,85]\n",
        "sort_element.sort()\n",
        "print(sort_element)"
      ],
      "execution_count": 94,
      "outputs": [
        {
          "output_type": "stream",
          "name": "stdout",
          "text": [
            "[9, 20, 30, 39, 85]\n"
          ]
        }
      ]
    },
    {
      "cell_type": "code",
      "metadata": {
        "colab": {
          "base_uri": "https://localhost:8080/"
        },
        "id": "_8tgVHmchxP5",
        "outputId": "52521434-a11e-4c86-b22e-2ece88de125f"
      },
      "source": [
        "min(sort_element)"
      ],
      "execution_count": 95,
      "outputs": [
        {
          "output_type": "execute_result",
          "data": {
            "text/plain": [
              "9"
            ]
          },
          "metadata": {},
          "execution_count": 95
        }
      ]
    },
    {
      "cell_type": "code",
      "metadata": {
        "colab": {
          "base_uri": "https://localhost:8080/"
        },
        "id": "2Sxp_eT0hxKz",
        "outputId": "a7971fb9-0708-42e3-ae5e-9275e115ed2a"
      },
      "source": [
        "sum(sort_element)"
      ],
      "execution_count": 97,
      "outputs": [
        {
          "output_type": "execute_result",
          "data": {
            "text/plain": [
              "183"
            ]
          },
          "metadata": {},
          "execution_count": 97
        }
      ]
    },
    {
      "cell_type": "code",
      "metadata": {
        "id": "7hPPgfK1hxE-"
      },
      "source": [
        "#Delete the element \"2\"\n",
        "num=[[[7,[5]]],[[1,[2,[3,4,[5,[9]]]]]]]\n"
      ],
      "execution_count": 103,
      "outputs": []
    },
    {
      "cell_type": "code",
      "metadata": {
        "colab": {
          "base_uri": "https://localhost:8080/"
        },
        "id": "abQsVrAshw_i",
        "outputId": "a88dfe66-4033-4ccc-bc42-f0abdb142390"
      },
      "source": [
        "num[0]"
      ],
      "execution_count": 104,
      "outputs": [
        {
          "output_type": "execute_result",
          "data": {
            "text/plain": [
              "[[7, [5]]]"
            ]
          },
          "metadata": {},
          "execution_count": 104
        }
      ]
    },
    {
      "cell_type": "code",
      "metadata": {
        "colab": {
          "base_uri": "https://localhost:8080/"
        },
        "id": "DJ0cpSUehw4x",
        "outputId": "3edd407a-9921-4b8a-c879-b5465ff77934"
      },
      "source": [
        "num[1]"
      ],
      "execution_count": 106,
      "outputs": [
        {
          "output_type": "execute_result",
          "data": {
            "text/plain": [
              "[[1, [2, [3, 4, [5, [9]]]]]]"
            ]
          },
          "metadata": {},
          "execution_count": 106
        }
      ]
    },
    {
      "cell_type": "code",
      "metadata": {
        "colab": {
          "base_uri": "https://localhost:8080/"
        },
        "id": "m5gLlYJwhwvh",
        "outputId": "73524118-c4f2-4428-8d38-171bd82e21f2"
      },
      "source": [
        "num[1][0][1][0]"
      ],
      "execution_count": 114,
      "outputs": [
        {
          "output_type": "execute_result",
          "data": {
            "text/plain": [
              "2"
            ]
          },
          "metadata": {},
          "execution_count": 114
        }
      ]
    },
    {
      "cell_type": "code",
      "metadata": {
        "id": "AEKtA5pYhwhr"
      },
      "source": [
        ""
      ],
      "execution_count": null,
      "outputs": []
    }
  ]
}